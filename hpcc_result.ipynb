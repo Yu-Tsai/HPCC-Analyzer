{
 "cells": [
  {
   "cell_type": "markdown",
   "metadata": {},
   "source": [
    "相對行數/絕對行數"
   ]
  },
  {
   "cell_type": "markdown",
   "metadata": {},
   "source": [
    "### Import modules"
   ]
  },
  {
   "cell_type": "code",
   "execution_count": 1,
   "metadata": {
    "collapsed": true
   },
   "outputs": [],
   "source": [
    "import pandas as pd\n",
    "import matplotlib.pyplot as plt"
   ]
  },
  {
   "cell_type": "markdown",
   "metadata": {},
   "source": [
    "### Read file"
   ]
  },
  {
   "cell_type": "code",
   "execution_count": 2,
   "metadata": {},
   "outputs": [
    {
     "data": {
      "text/plain": [
       "'30000N_4proc_1NB_3time.txt'"
      ]
     },
     "execution_count": 2,
     "metadata": {},
     "output_type": "execute_result"
    }
   ],
   "source": [
    "with open('30000N_4proc_1NB_3time.txt', 'r') as ifile:\n",
    "    filename = ifile.name\n",
    "    raw = ifile.readlines()\n",
    "filename"
   ]
  },
  {
   "cell_type": "markdown",
   "metadata": {},
   "source": [
    "### Description"
   ]
  },
  {
   "cell_type": "code",
   "execution_count": 3,
   "metadata": {},
   "outputs": [],
   "source": [
    "def cut_line(line):\n",
    "    data = line.strip().split(':')\n",
    "    data[0] = data[0].strip()\n",
    "    data[1] = data[1].strip().strip('.')\n",
    "    return data"
   ]
  },
  {
   "cell_type": "code",
   "execution_count": 6,
   "metadata": {},
   "outputs": [
    {
     "data": {
      "text/plain": [
       "{'Gflops': 'Rate of execution for solving the linear system',\n",
       " 'N': 'The order of the coefficient matrix A',\n",
       " 'NB': 'The partitioning blocking factor',\n",
       " 'P': 'The number of process rows',\n",
       " 'Q': 'The number of process columns',\n",
       " 'T/V': 'Wall time / encoded variant',\n",
       " 'Time': 'Time in seconds to solve the linear system'}"
      ]
     },
     "execution_count": 6,
     "metadata": {},
     "output_type": "execute_result"
    }
   ],
   "source": [
    "description = {}\n",
    "for i in range(20, 27):\n",
    "    desc = cut_line(raw[i])\n",
    "    description[desc[0]] = desc[1]\n",
    "description"
   ]
  },
  {
   "cell_type": "markdown",
   "metadata": {},
   "source": [
    "### Parameter"
   ]
  },
  {
   "cell_type": "code",
   "execution_count": 7,
   "metadata": {},
   "outputs": [
    {
     "data": {
      "text/plain": [
       "{'ALIGN': '8 double precision words',\n",
       " 'BCAST': '1ringM',\n",
       " 'DEPTH': '1',\n",
       " 'EQUIL': 'yes',\n",
       " 'L1': 'transposed form',\n",
       " 'N': '20000',\n",
       " 'NB': '10',\n",
       " 'NBMIN': '4',\n",
       " 'NDIV': '2',\n",
       " 'P': '2',\n",
       " 'PFACT': 'Right',\n",
       " 'PMAP': 'Row-major process mapping',\n",
       " 'Q': '4',\n",
       " 'RFACT': 'Crout',\n",
       " 'SWAP': 'Mix (threshold = 64)',\n",
       " 'U': 'transposed form'}"
      ]
     },
     "execution_count": 7,
     "metadata": {},
     "output_type": "execute_result"
    }
   ],
   "source": [
    "parameter = {}\n",
    "for i in range(30, 46):\n",
    "    param = cut_line(raw[i])\n",
    "    parameter[param[0]] = param[1]\n",
    "parameter"
   ]
  },
  {
   "cell_type": "code",
   "execution_count": null,
   "metadata": {
    "collapsed": true
   },
   "outputs": [],
   "source": [
    " "
   ]
  },
  {
   "cell_type": "code",
   "execution_count": null,
   "metadata": {
    "collapsed": true
   },
   "outputs": [],
   "source": []
  }
 ],
 "metadata": {
  "kernelspec": {
   "display_name": "Python 3",
   "language": "python",
   "name": "python3"
  },
  "language_info": {
   "codemirror_mode": {
    "name": "ipython",
    "version": 3
   },
   "file_extension": ".py",
   "mimetype": "text/x-python",
   "name": "python",
   "nbconvert_exporter": "python",
   "pygments_lexer": "ipython3",
   "version": "3.6.2"
  }
 },
 "nbformat": 4,
 "nbformat_minor": 2
}
